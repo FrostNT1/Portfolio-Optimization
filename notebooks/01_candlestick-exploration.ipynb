{
 "cells": [
  {
   "cell_type": "code",
   "execution_count": null,
   "metadata": {},
   "outputs": [],
   "source": [
    "import pandas as pd\n",
    "import numpy as np\n",
    "import matplotlib.pyplot as plt\n",
    "import seaborn as sns\n",
    "\n",
    "from portfolio_optimization.data import DataCollector\n",
    "from portfolio_optimization.optimization import PortfolioOptimizer\n",
    "\n",
    "# Set up plotting style\n",
    "plt.style.use('seaborn-v0_8')\n",
    "plt.rcParams['figure.figsize'] = [12, 6]  # Larger default figure size\n",
    "plt.rcParams['axes.grid'] = True          # Always show grid\n",
    "plt.rcParams['axes.spines.top'] = False   # Remove top spine\n",
    "plt.rcParams['axes.spines.right'] = False # Remove right spine\n",
    "sns.set_palette('husl')                   # Set color palette"
   ]
  }
 ],
 "metadata": {
  "language_info": {
   "name": "python"
  }
 },
 "nbformat": 4,
 "nbformat_minor": 2
}
